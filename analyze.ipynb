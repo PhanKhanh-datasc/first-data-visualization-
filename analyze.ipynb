{
 "cells": [
  {
   "metadata": {},
   "cell_type": "raw",
   "source": [
    "in this assignment, i will make an data visualization about daily weather of U.S (2017) dataset. \n",
    "\n",
    "description of each column:\n",
    "PRCP = Precipitation (inch)\n",
    "SNOW = Snowfall (inch)\n",
    "SNWD = Snow depth (inch)\n",
    "TMAX = Maximum temperature (F)\n",
    "TMIN = Minimum temperature (F)\n",
    "TAVG = Average temperature (F)\n",
    "AWND = Average daily wind speed (miles / hour)\n",
    "WSF5 = Fastest 5-second wind speed (miles / hour)\n",
    "WDF5 = Direction of fastest 5-second wind (degrees)\n",
    "\n",
    "For more information, see:\n",
    "ftp://ftp.ncdc.noaa.gov/pub/data/ghcn/daily/readme.txt"
   ],
   "id": "b0ee102907e24a75"
  },
  {
   "metadata": {},
   "cell_type": "markdown",
   "source": "import necessary libraries",
   "id": "9cf7acdeed0b6cf5"
  },
  {
   "metadata": {
    "ExecuteTime": {
     "end_time": "2025-03-09T15:59:05.949768Z",
     "start_time": "2025-03-09T15:59:05.946496Z"
    }
   },
   "cell_type": "code",
   "source": [
    "import pandas as pd\n",
    "import matplotlib.pyplot as plt\n",
    "import seaborn as sns"
   ],
   "id": "cb0cf1eec653f7bf",
   "outputs": [],
   "execution_count": 47
  },
  {
   "metadata": {},
   "cell_type": "markdown",
   "source": "import dataset",
   "id": "1d95746d308670e6"
  },
  {
   "metadata": {
    "ExecuteTime": {
     "end_time": "2025-03-09T15:59:06.323608Z",
     "start_time": "2025-03-09T15:59:05.984549Z"
    }
   },
   "cell_type": "code",
   "source": [
    "url = 'data/weather.csv'\n",
    "df = pd.read_csv(url)\n",
    "df.head()"
   ],
   "id": "9f39dbbc0618b95f",
   "outputs": [
    {
     "data": {
      "text/plain": [
       "                 station state  latitude  longitude  elevation      date  \\\n",
       "0           GUAM INTL AP    GU   13.4836   144.7961       77.4  20170312   \n",
       "1        ROOSEVELT ROADS    PR   18.2550   -65.6408       10.1  20170404   \n",
       "2        ROOSEVELT ROADS    PR   18.2550   -65.6408       10.1  20170420   \n",
       "3  SAN JUAN L M MARIN AP    PR   18.4325   -66.0108        2.7  20170120   \n",
       "4  SAN JUAN L M MARIN AP    PR   18.4325   -66.0108        2.7  20170217   \n",
       "\n",
       "    TMIN   TMAX   TAVG      AWND   WDF5       WSF5  SNOW  SNWD  PRCP  \n",
       "0  71.06  87.08  80.06  4.473880  360.0  21.027236   0.0   0.0   0.0  \n",
       "1  77.00  86.00    NaN  8.947760  360.0  23.040482   NaN   NaN   0.0  \n",
       "2    NaN    NaN    NaN  8.500372  360.0  21.922012   NaN   NaN   0.0  \n",
       "3  69.08  82.04    NaN  3.355410  360.0  17.000744   0.0   0.0   0.0  \n",
       "4  73.04  87.08    NaN  4.697574  360.0  19.908766   0.0   0.0   0.0  "
      ],
      "text/html": [
       "<div>\n",
       "<style scoped>\n",
       "    .dataframe tbody tr th:only-of-type {\n",
       "        vertical-align: middle;\n",
       "    }\n",
       "\n",
       "    .dataframe tbody tr th {\n",
       "        vertical-align: top;\n",
       "    }\n",
       "\n",
       "    .dataframe thead th {\n",
       "        text-align: right;\n",
       "    }\n",
       "</style>\n",
       "<table border=\"1\" class=\"dataframe\">\n",
       "  <thead>\n",
       "    <tr style=\"text-align: right;\">\n",
       "      <th></th>\n",
       "      <th>station</th>\n",
       "      <th>state</th>\n",
       "      <th>latitude</th>\n",
       "      <th>longitude</th>\n",
       "      <th>elevation</th>\n",
       "      <th>date</th>\n",
       "      <th>TMIN</th>\n",
       "      <th>TMAX</th>\n",
       "      <th>TAVG</th>\n",
       "      <th>AWND</th>\n",
       "      <th>WDF5</th>\n",
       "      <th>WSF5</th>\n",
       "      <th>SNOW</th>\n",
       "      <th>SNWD</th>\n",
       "      <th>PRCP</th>\n",
       "    </tr>\n",
       "  </thead>\n",
       "  <tbody>\n",
       "    <tr>\n",
       "      <th>0</th>\n",
       "      <td>GUAM INTL AP</td>\n",
       "      <td>GU</td>\n",
       "      <td>13.4836</td>\n",
       "      <td>144.7961</td>\n",
       "      <td>77.4</td>\n",
       "      <td>20170312</td>\n",
       "      <td>71.06</td>\n",
       "      <td>87.08</td>\n",
       "      <td>80.06</td>\n",
       "      <td>4.473880</td>\n",
       "      <td>360.0</td>\n",
       "      <td>21.027236</td>\n",
       "      <td>0.0</td>\n",
       "      <td>0.0</td>\n",
       "      <td>0.0</td>\n",
       "    </tr>\n",
       "    <tr>\n",
       "      <th>1</th>\n",
       "      <td>ROOSEVELT ROADS</td>\n",
       "      <td>PR</td>\n",
       "      <td>18.2550</td>\n",
       "      <td>-65.6408</td>\n",
       "      <td>10.1</td>\n",
       "      <td>20170404</td>\n",
       "      <td>77.00</td>\n",
       "      <td>86.00</td>\n",
       "      <td>NaN</td>\n",
       "      <td>8.947760</td>\n",
       "      <td>360.0</td>\n",
       "      <td>23.040482</td>\n",
       "      <td>NaN</td>\n",
       "      <td>NaN</td>\n",
       "      <td>0.0</td>\n",
       "    </tr>\n",
       "    <tr>\n",
       "      <th>2</th>\n",
       "      <td>ROOSEVELT ROADS</td>\n",
       "      <td>PR</td>\n",
       "      <td>18.2550</td>\n",
       "      <td>-65.6408</td>\n",
       "      <td>10.1</td>\n",
       "      <td>20170420</td>\n",
       "      <td>NaN</td>\n",
       "      <td>NaN</td>\n",
       "      <td>NaN</td>\n",
       "      <td>8.500372</td>\n",
       "      <td>360.0</td>\n",
       "      <td>21.922012</td>\n",
       "      <td>NaN</td>\n",
       "      <td>NaN</td>\n",
       "      <td>0.0</td>\n",
       "    </tr>\n",
       "    <tr>\n",
       "      <th>3</th>\n",
       "      <td>SAN JUAN L M MARIN AP</td>\n",
       "      <td>PR</td>\n",
       "      <td>18.4325</td>\n",
       "      <td>-66.0108</td>\n",
       "      <td>2.7</td>\n",
       "      <td>20170120</td>\n",
       "      <td>69.08</td>\n",
       "      <td>82.04</td>\n",
       "      <td>NaN</td>\n",
       "      <td>3.355410</td>\n",
       "      <td>360.0</td>\n",
       "      <td>17.000744</td>\n",
       "      <td>0.0</td>\n",
       "      <td>0.0</td>\n",
       "      <td>0.0</td>\n",
       "    </tr>\n",
       "    <tr>\n",
       "      <th>4</th>\n",
       "      <td>SAN JUAN L M MARIN AP</td>\n",
       "      <td>PR</td>\n",
       "      <td>18.4325</td>\n",
       "      <td>-66.0108</td>\n",
       "      <td>2.7</td>\n",
       "      <td>20170217</td>\n",
       "      <td>73.04</td>\n",
       "      <td>87.08</td>\n",
       "      <td>NaN</td>\n",
       "      <td>4.697574</td>\n",
       "      <td>360.0</td>\n",
       "      <td>19.908766</td>\n",
       "      <td>0.0</td>\n",
       "      <td>0.0</td>\n",
       "      <td>0.0</td>\n",
       "    </tr>\n",
       "  </tbody>\n",
       "</table>\n",
       "</div>"
      ]
     },
     "execution_count": 48,
     "metadata": {},
     "output_type": "execute_result"
    }
   ],
   "execution_count": 48
  },
  {
   "metadata": {
    "ExecuteTime": {
     "end_time": "2025-03-09T15:59:06.378886Z",
     "start_time": "2025-03-09T15:59:06.375157Z"
    }
   },
   "cell_type": "code",
   "source": "df.shape",
   "id": "a25ca29edf37422a",
   "outputs": [
    {
     "data": {
      "text/plain": [
       "(416937, 15)"
      ]
     },
     "execution_count": 49,
     "metadata": {},
     "output_type": "execute_result"
    }
   ],
   "execution_count": 49
  },
  {
   "metadata": {},
   "cell_type": "markdown",
   "source": "check if there are any null values",
   "id": "16dbf6a705dd11e9"
  },
  {
   "metadata": {
    "ExecuteTime": {
     "end_time": "2025-03-09T15:59:06.458904Z",
     "start_time": "2025-03-09T15:59:06.431127Z"
    }
   },
   "cell_type": "code",
   "source": "df.isnull().sum()",
   "id": "782dcfa61e98ca91",
   "outputs": [
    {
     "data": {
      "text/plain": [
       "station           0\n",
       "state             0\n",
       "latitude          0\n",
       "longitude         0\n",
       "elevation         0\n",
       "date              0\n",
       "TMIN           1344\n",
       "TMAX           1273\n",
       "TAVG         157899\n",
       "AWND         182057\n",
       "WDF5         190822\n",
       "WSF5         190762\n",
       "SNOW         281828\n",
       "SNWD         104495\n",
       "PRCP           1972\n",
       "dtype: int64"
      ]
     },
     "execution_count": 50,
     "metadata": {},
     "output_type": "execute_result"
    }
   ],
   "execution_count": 50
  },
  {
   "metadata": {
    "ExecuteTime": {
     "end_time": "2025-03-09T15:59:06.565610Z",
     "start_time": "2025-03-09T15:59:06.560654Z"
    }
   },
   "cell_type": "code",
   "source": "df.dtypes",
   "id": "d6e064cbc5e85588",
   "outputs": [
    {
     "data": {
      "text/plain": [
       "station       object\n",
       "state         object\n",
       "latitude     float64\n",
       "longitude    float64\n",
       "elevation    float64\n",
       "date           int64\n",
       "TMIN         float64\n",
       "TMAX         float64\n",
       "TAVG         float64\n",
       "AWND         float64\n",
       "WDF5         float64\n",
       "WSF5         float64\n",
       "SNOW         float64\n",
       "SNWD         float64\n",
       "PRCP         float64\n",
       "dtype: object"
      ]
     },
     "execution_count": 51,
     "metadata": {},
     "output_type": "execute_result"
    }
   ],
   "execution_count": 51
  },
  {
   "metadata": {},
   "cell_type": "markdown",
   "source": "the 'date' is not in the right type so we have to fix it later for plotting",
   "id": "9d6eea6fc2a17255"
  },
  {
   "metadata": {
    "ExecuteTime": {
     "end_time": "2025-03-09T15:59:06.778842Z",
     "start_time": "2025-03-09T15:59:06.652395Z"
    }
   },
   "cell_type": "code",
   "source": "df.describe()",
   "id": "88315db2e07fab8a",
   "outputs": [
    {
     "data": {
      "text/plain": [
       "            latitude      longitude      elevation          date  \\\n",
       "count  416937.000000  416937.000000  416937.000000  4.169370e+05   \n",
       "mean       41.293931    -104.599374    1148.669856  2.017050e+07   \n",
       "std         7.003117      20.440668    1072.908538  2.494075e+02   \n",
       "min        13.483600    -170.222200     -36.000000  2.017010e+07   \n",
       "25%        37.610000    -116.450000     162.800000  2.017031e+07   \n",
       "50%        41.254400    -109.240000     789.400000  2.017051e+07   \n",
       "75%        44.866400     -90.251100    2130.600000  2.017072e+07   \n",
       "max        71.283300     145.716700    3541.800000  2.017092e+07   \n",
       "\n",
       "                TMIN           TMAX           TAVG           AWND  \\\n",
       "count  415593.000000  415664.000000  259038.000000  234880.000000   \n",
       "mean       41.790790      62.801081      47.541197       8.142031   \n",
       "std        18.926374      21.061005      18.598894       6.746946   \n",
       "min      -147.820000    -147.820000    -147.820000       0.000000   \n",
       "25%        29.660000      46.760000      34.340000       4.921268   \n",
       "50%        42.980000      66.020000      48.740000       6.934514   \n",
       "75%        55.040000      79.700000      61.340000      10.066230   \n",
       "max        98.960000     261.680000     120.560000     112.518082   \n",
       "\n",
       "                WDF5           WSF5           SNOW           SNWD  \\\n",
       "count  226115.000000  226175.000000  135109.000000  312442.000000   \n",
       "mean      202.023612      24.811372       0.049699      15.069284   \n",
       "std        98.377489       8.964207       0.536061      28.410950   \n",
       "min         2.000000       4.026492       0.000000       0.000000   \n",
       "25%       130.000000      18.119214       0.000000       0.000000   \n",
       "50%       210.000000      23.040482       0.000000       0.000000   \n",
       "75%       290.000000      29.974996       0.000000      22.007886   \n",
       "max       360.000000     180.073670      67.992163     280.000151   \n",
       "\n",
       "                PRCP  \n",
       "count  414965.000000  \n",
       "mean        0.112710  \n",
       "std         0.328695  \n",
       "min         0.000000  \n",
       "25%         0.000000  \n",
       "50%         0.000000  \n",
       "75%         0.098425  \n",
       "max        26.031510  "
      ],
      "text/html": [
       "<div>\n",
       "<style scoped>\n",
       "    .dataframe tbody tr th:only-of-type {\n",
       "        vertical-align: middle;\n",
       "    }\n",
       "\n",
       "    .dataframe tbody tr th {\n",
       "        vertical-align: top;\n",
       "    }\n",
       "\n",
       "    .dataframe thead th {\n",
       "        text-align: right;\n",
       "    }\n",
       "</style>\n",
       "<table border=\"1\" class=\"dataframe\">\n",
       "  <thead>\n",
       "    <tr style=\"text-align: right;\">\n",
       "      <th></th>\n",
       "      <th>latitude</th>\n",
       "      <th>longitude</th>\n",
       "      <th>elevation</th>\n",
       "      <th>date</th>\n",
       "      <th>TMIN</th>\n",
       "      <th>TMAX</th>\n",
       "      <th>TAVG</th>\n",
       "      <th>AWND</th>\n",
       "      <th>WDF5</th>\n",
       "      <th>WSF5</th>\n",
       "      <th>SNOW</th>\n",
       "      <th>SNWD</th>\n",
       "      <th>PRCP</th>\n",
       "    </tr>\n",
       "  </thead>\n",
       "  <tbody>\n",
       "    <tr>\n",
       "      <th>count</th>\n",
       "      <td>416937.000000</td>\n",
       "      <td>416937.000000</td>\n",
       "      <td>416937.000000</td>\n",
       "      <td>4.169370e+05</td>\n",
       "      <td>415593.000000</td>\n",
       "      <td>415664.000000</td>\n",
       "      <td>259038.000000</td>\n",
       "      <td>234880.000000</td>\n",
       "      <td>226115.000000</td>\n",
       "      <td>226175.000000</td>\n",
       "      <td>135109.000000</td>\n",
       "      <td>312442.000000</td>\n",
       "      <td>414965.000000</td>\n",
       "    </tr>\n",
       "    <tr>\n",
       "      <th>mean</th>\n",
       "      <td>41.293931</td>\n",
       "      <td>-104.599374</td>\n",
       "      <td>1148.669856</td>\n",
       "      <td>2.017050e+07</td>\n",
       "      <td>41.790790</td>\n",
       "      <td>62.801081</td>\n",
       "      <td>47.541197</td>\n",
       "      <td>8.142031</td>\n",
       "      <td>202.023612</td>\n",
       "      <td>24.811372</td>\n",
       "      <td>0.049699</td>\n",
       "      <td>15.069284</td>\n",
       "      <td>0.112710</td>\n",
       "    </tr>\n",
       "    <tr>\n",
       "      <th>std</th>\n",
       "      <td>7.003117</td>\n",
       "      <td>20.440668</td>\n",
       "      <td>1072.908538</td>\n",
       "      <td>2.494075e+02</td>\n",
       "      <td>18.926374</td>\n",
       "      <td>21.061005</td>\n",
       "      <td>18.598894</td>\n",
       "      <td>6.746946</td>\n",
       "      <td>98.377489</td>\n",
       "      <td>8.964207</td>\n",
       "      <td>0.536061</td>\n",
       "      <td>28.410950</td>\n",
       "      <td>0.328695</td>\n",
       "    </tr>\n",
       "    <tr>\n",
       "      <th>min</th>\n",
       "      <td>13.483600</td>\n",
       "      <td>-170.222200</td>\n",
       "      <td>-36.000000</td>\n",
       "      <td>2.017010e+07</td>\n",
       "      <td>-147.820000</td>\n",
       "      <td>-147.820000</td>\n",
       "      <td>-147.820000</td>\n",
       "      <td>0.000000</td>\n",
       "      <td>2.000000</td>\n",
       "      <td>4.026492</td>\n",
       "      <td>0.000000</td>\n",
       "      <td>0.000000</td>\n",
       "      <td>0.000000</td>\n",
       "    </tr>\n",
       "    <tr>\n",
       "      <th>25%</th>\n",
       "      <td>37.610000</td>\n",
       "      <td>-116.450000</td>\n",
       "      <td>162.800000</td>\n",
       "      <td>2.017031e+07</td>\n",
       "      <td>29.660000</td>\n",
       "      <td>46.760000</td>\n",
       "      <td>34.340000</td>\n",
       "      <td>4.921268</td>\n",
       "      <td>130.000000</td>\n",
       "      <td>18.119214</td>\n",
       "      <td>0.000000</td>\n",
       "      <td>0.000000</td>\n",
       "      <td>0.000000</td>\n",
       "    </tr>\n",
       "    <tr>\n",
       "      <th>50%</th>\n",
       "      <td>41.254400</td>\n",
       "      <td>-109.240000</td>\n",
       "      <td>789.400000</td>\n",
       "      <td>2.017051e+07</td>\n",
       "      <td>42.980000</td>\n",
       "      <td>66.020000</td>\n",
       "      <td>48.740000</td>\n",
       "      <td>6.934514</td>\n",
       "      <td>210.000000</td>\n",
       "      <td>23.040482</td>\n",
       "      <td>0.000000</td>\n",
       "      <td>0.000000</td>\n",
       "      <td>0.000000</td>\n",
       "    </tr>\n",
       "    <tr>\n",
       "      <th>75%</th>\n",
       "      <td>44.866400</td>\n",
       "      <td>-90.251100</td>\n",
       "      <td>2130.600000</td>\n",
       "      <td>2.017072e+07</td>\n",
       "      <td>55.040000</td>\n",
       "      <td>79.700000</td>\n",
       "      <td>61.340000</td>\n",
       "      <td>10.066230</td>\n",
       "      <td>290.000000</td>\n",
       "      <td>29.974996</td>\n",
       "      <td>0.000000</td>\n",
       "      <td>22.007886</td>\n",
       "      <td>0.098425</td>\n",
       "    </tr>\n",
       "    <tr>\n",
       "      <th>max</th>\n",
       "      <td>71.283300</td>\n",
       "      <td>145.716700</td>\n",
       "      <td>3541.800000</td>\n",
       "      <td>2.017092e+07</td>\n",
       "      <td>98.960000</td>\n",
       "      <td>261.680000</td>\n",
       "      <td>120.560000</td>\n",
       "      <td>112.518082</td>\n",
       "      <td>360.000000</td>\n",
       "      <td>180.073670</td>\n",
       "      <td>67.992163</td>\n",
       "      <td>280.000151</td>\n",
       "      <td>26.031510</td>\n",
       "    </tr>\n",
       "  </tbody>\n",
       "</table>\n",
       "</div>"
      ]
     },
     "execution_count": 52,
     "metadata": {},
     "output_type": "execute_result"
    }
   ],
   "execution_count": 52
  },
  {
   "metadata": {},
   "cell_type": "markdown",
   "source": "As we can see, there are multiple rows missing data about the temperature and wind speed of that day, moreover, there are rows that contain outlier data or even being duplicates. We will have to do data cleaning process before visualization to avoid error.",
   "id": "1670e80dc00cb28f"
  },
  {
   "metadata": {
    "ExecuteTime": {
     "end_time": "2025-03-09T15:59:07.011936Z",
     "start_time": "2025-03-09T15:59:06.841809Z"
    }
   },
   "cell_type": "code",
   "source": [
    "df['year_month'] = df['date'].astype(str).str[:7]  # Extract \"YYYY-MM\"\n",
    "\n",
    "# Convert TAVG to numeric safely\n",
    "df['TAVG'] = pd.to_numeric(df['TAVG'], errors='coerce')\n",
    "\n",
    "# Drop NaNs\n",
    "df = df.dropna(subset=['TAVG'])\n",
    "\n",
    "# Group by 'YYYY-MM' and compute mean\n",
    "df_monthly = df.groupby('year_month', as_index=False)['TAVG'].mean()\n",
    "\n",
    "df_monthly.head()\n"
   ],
   "id": "b4e94bdfb4a7400",
   "outputs": [
    {
     "data": {
      "text/plain": [
       "  year_month       TAVG\n",
       "0    2017010  20.933739\n",
       "1    2017011  27.103536\n",
       "2    2017012  26.791157\n",
       "3    2017013  31.740061\n",
       "4    2017020  31.080595"
      ],
      "text/html": [
       "<div>\n",
       "<style scoped>\n",
       "    .dataframe tbody tr th:only-of-type {\n",
       "        vertical-align: middle;\n",
       "    }\n",
       "\n",
       "    .dataframe tbody tr th {\n",
       "        vertical-align: top;\n",
       "    }\n",
       "\n",
       "    .dataframe thead th {\n",
       "        text-align: right;\n",
       "    }\n",
       "</style>\n",
       "<table border=\"1\" class=\"dataframe\">\n",
       "  <thead>\n",
       "    <tr style=\"text-align: right;\">\n",
       "      <th></th>\n",
       "      <th>year_month</th>\n",
       "      <th>TAVG</th>\n",
       "    </tr>\n",
       "  </thead>\n",
       "  <tbody>\n",
       "    <tr>\n",
       "      <th>0</th>\n",
       "      <td>2017010</td>\n",
       "      <td>20.933739</td>\n",
       "    </tr>\n",
       "    <tr>\n",
       "      <th>1</th>\n",
       "      <td>2017011</td>\n",
       "      <td>27.103536</td>\n",
       "    </tr>\n",
       "    <tr>\n",
       "      <th>2</th>\n",
       "      <td>2017012</td>\n",
       "      <td>26.791157</td>\n",
       "    </tr>\n",
       "    <tr>\n",
       "      <th>3</th>\n",
       "      <td>2017013</td>\n",
       "      <td>31.740061</td>\n",
       "    </tr>\n",
       "    <tr>\n",
       "      <th>4</th>\n",
       "      <td>2017020</td>\n",
       "      <td>31.080595</td>\n",
       "    </tr>\n",
       "  </tbody>\n",
       "</table>\n",
       "</div>"
      ]
     },
     "execution_count": 53,
     "metadata": {},
     "output_type": "execute_result"
    }
   ],
   "execution_count": 53
  },
  {
   "metadata": {},
   "cell_type": "markdown",
   "source": "split the df to smaller df based on the state",
   "id": "e30b26b045da2a69"
  },
  {
   "metadata": {
    "ExecuteTime": {
     "end_time": "2025-03-09T15:59:07.076840Z",
     "start_time": "2025-03-09T15:59:07.065998Z"
    }
   },
   "cell_type": "code",
   "source": [
    "unique_states_series = pd.Series(df['state'].unique(), name=\"Unique States\")\n",
    "unique_states_series"
   ],
   "id": "153bf9e5a2dd4fdf",
   "outputs": [
    {
     "data": {
      "text/plain": [
       "0     GU\n",
       "1     MT\n",
       "2     CO\n",
       "3     NV\n",
       "4     NC\n",
       "      ..\n",
       "56    QC\n",
       "57    NB\n",
       "58    NS\n",
       "59    PE\n",
       "60    NL\n",
       "Name: Unique States, Length: 61, dtype: object"
      ]
     },
     "execution_count": 54,
     "metadata": {},
     "output_type": "execute_result"
    }
   ],
   "execution_count": 54
  },
  {
   "metadata": {
    "ExecuteTime": {
     "end_time": "2025-03-09T15:59:08.554436Z",
     "start_time": "2025-03-09T15:59:07.139679Z"
    }
   },
   "cell_type": "code",
   "source": [
    "if \"state\" in df.columns:\n",
    "    for state, group in df.groupby(['state']):\n",
    "        state = str(state).strip(\"()''\").strip(\"',\")\n",
    "        file_name = f\"data/splitted data/{str(state)}.csv\"\n",
    "        group.to_csv(file_name, index=False)\n",
    "else:\n",
    "    print(\"no states found\")"
   ],
   "id": "34c810bd78e3b055",
   "outputs": [],
   "execution_count": 55
  },
  {
   "metadata": {
    "ExecuteTime": {
     "end_time": "2025-03-09T15:59:08.609335Z",
     "start_time": "2025-03-09T15:59:08.577071Z"
    }
   },
   "cell_type": "code",
   "source": [
    "ND = pd.read_csv(\"data/splitted data/ND.csv\")\n",
    "ND.head()"
   ],
   "id": "2e7d0cf1ec197a19",
   "outputs": [
    {
     "data": {
      "text/plain": [
       "                station state  latitude  longitude  elevation      date  \\\n",
       "0  FARGO HECTOR INTL AP    ND   46.9253   -96.8111      274.3  20170223   \n",
       "1  FARGO HECTOR INTL AP    ND   46.9253   -96.8111      274.3  20170228   \n",
       "2  FARGO HECTOR INTL AP    ND   46.9253   -96.8111      274.3  20170302   \n",
       "3  FARGO HECTOR INTL AP    ND   46.9253   -96.8111      274.3  20170310   \n",
       "4  FARGO HECTOR INTL AP    ND   46.9253   -96.8111      274.3  20170328   \n",
       "\n",
       "    TMIN   TMAX   TAVG       AWND   WDF5       WSF5  SNOW  SNWD  PRCP  \\\n",
       "0  22.10  31.10  30.38  14.316416  360.0  31.988242   0.0   0.0   0.0   \n",
       "1  18.14  31.10  24.98  15.211192  360.0  27.961750   0.0   0.0   0.0   \n",
       "2   8.24  19.22  14.54   8.947760  360.0  21.922012   0.0   0.0   0.0   \n",
       "3  -2.74  12.20   3.74  10.961006  360.0  23.935258   0.0   0.0   0.0   \n",
       "4  31.10  59.00  42.26   5.144962  360.0  14.092722   0.0   0.0   0.0   \n",
       "\n",
       "   year_month  \n",
       "0     2017022  \n",
       "1     2017022  \n",
       "2     2017030  \n",
       "3     2017031  \n",
       "4     2017032  "
      ],
      "text/html": [
       "<div>\n",
       "<style scoped>\n",
       "    .dataframe tbody tr th:only-of-type {\n",
       "        vertical-align: middle;\n",
       "    }\n",
       "\n",
       "    .dataframe tbody tr th {\n",
       "        vertical-align: top;\n",
       "    }\n",
       "\n",
       "    .dataframe thead th {\n",
       "        text-align: right;\n",
       "    }\n",
       "</style>\n",
       "<table border=\"1\" class=\"dataframe\">\n",
       "  <thead>\n",
       "    <tr style=\"text-align: right;\">\n",
       "      <th></th>\n",
       "      <th>station</th>\n",
       "      <th>state</th>\n",
       "      <th>latitude</th>\n",
       "      <th>longitude</th>\n",
       "      <th>elevation</th>\n",
       "      <th>date</th>\n",
       "      <th>TMIN</th>\n",
       "      <th>TMAX</th>\n",
       "      <th>TAVG</th>\n",
       "      <th>AWND</th>\n",
       "      <th>WDF5</th>\n",
       "      <th>WSF5</th>\n",
       "      <th>SNOW</th>\n",
       "      <th>SNWD</th>\n",
       "      <th>PRCP</th>\n",
       "      <th>year_month</th>\n",
       "    </tr>\n",
       "  </thead>\n",
       "  <tbody>\n",
       "    <tr>\n",
       "      <th>0</th>\n",
       "      <td>FARGO HECTOR INTL AP</td>\n",
       "      <td>ND</td>\n",
       "      <td>46.9253</td>\n",
       "      <td>-96.8111</td>\n",
       "      <td>274.3</td>\n",
       "      <td>20170223</td>\n",
       "      <td>22.10</td>\n",
       "      <td>31.10</td>\n",
       "      <td>30.38</td>\n",
       "      <td>14.316416</td>\n",
       "      <td>360.0</td>\n",
       "      <td>31.988242</td>\n",
       "      <td>0.0</td>\n",
       "      <td>0.0</td>\n",
       "      <td>0.0</td>\n",
       "      <td>2017022</td>\n",
       "    </tr>\n",
       "    <tr>\n",
       "      <th>1</th>\n",
       "      <td>FARGO HECTOR INTL AP</td>\n",
       "      <td>ND</td>\n",
       "      <td>46.9253</td>\n",
       "      <td>-96.8111</td>\n",
       "      <td>274.3</td>\n",
       "      <td>20170228</td>\n",
       "      <td>18.14</td>\n",
       "      <td>31.10</td>\n",
       "      <td>24.98</td>\n",
       "      <td>15.211192</td>\n",
       "      <td>360.0</td>\n",
       "      <td>27.961750</td>\n",
       "      <td>0.0</td>\n",
       "      <td>0.0</td>\n",
       "      <td>0.0</td>\n",
       "      <td>2017022</td>\n",
       "    </tr>\n",
       "    <tr>\n",
       "      <th>2</th>\n",
       "      <td>FARGO HECTOR INTL AP</td>\n",
       "      <td>ND</td>\n",
       "      <td>46.9253</td>\n",
       "      <td>-96.8111</td>\n",
       "      <td>274.3</td>\n",
       "      <td>20170302</td>\n",
       "      <td>8.24</td>\n",
       "      <td>19.22</td>\n",
       "      <td>14.54</td>\n",
       "      <td>8.947760</td>\n",
       "      <td>360.0</td>\n",
       "      <td>21.922012</td>\n",
       "      <td>0.0</td>\n",
       "      <td>0.0</td>\n",
       "      <td>0.0</td>\n",
       "      <td>2017030</td>\n",
       "    </tr>\n",
       "    <tr>\n",
       "      <th>3</th>\n",
       "      <td>FARGO HECTOR INTL AP</td>\n",
       "      <td>ND</td>\n",
       "      <td>46.9253</td>\n",
       "      <td>-96.8111</td>\n",
       "      <td>274.3</td>\n",
       "      <td>20170310</td>\n",
       "      <td>-2.74</td>\n",
       "      <td>12.20</td>\n",
       "      <td>3.74</td>\n",
       "      <td>10.961006</td>\n",
       "      <td>360.0</td>\n",
       "      <td>23.935258</td>\n",
       "      <td>0.0</td>\n",
       "      <td>0.0</td>\n",
       "      <td>0.0</td>\n",
       "      <td>2017031</td>\n",
       "    </tr>\n",
       "    <tr>\n",
       "      <th>4</th>\n",
       "      <td>FARGO HECTOR INTL AP</td>\n",
       "      <td>ND</td>\n",
       "      <td>46.9253</td>\n",
       "      <td>-96.8111</td>\n",
       "      <td>274.3</td>\n",
       "      <td>20170328</td>\n",
       "      <td>31.10</td>\n",
       "      <td>59.00</td>\n",
       "      <td>42.26</td>\n",
       "      <td>5.144962</td>\n",
       "      <td>360.0</td>\n",
       "      <td>14.092722</td>\n",
       "      <td>0.0</td>\n",
       "      <td>0.0</td>\n",
       "      <td>0.0</td>\n",
       "      <td>2017032</td>\n",
       "    </tr>\n",
       "  </tbody>\n",
       "</table>\n",
       "</div>"
      ]
     },
     "execution_count": 56,
     "metadata": {},
     "output_type": "execute_result"
    }
   ],
   "execution_count": 56
  },
  {
   "metadata": {
    "ExecuteTime": {
     "end_time": "2025-03-09T15:59:08.640893Z",
     "start_time": "2025-03-09T15:59:08.636690Z"
    }
   },
   "cell_type": "code",
   "source": "ND.dtypes",
   "id": "42cffa9297cf558c",
   "outputs": [
    {
     "data": {
      "text/plain": [
       "station        object\n",
       "state          object\n",
       "latitude      float64\n",
       "longitude     float64\n",
       "elevation     float64\n",
       "date            int64\n",
       "TMIN          float64\n",
       "TMAX          float64\n",
       "TAVG          float64\n",
       "AWND          float64\n",
       "WDF5          float64\n",
       "WSF5          float64\n",
       "SNOW          float64\n",
       "SNWD          float64\n",
       "PRCP          float64\n",
       "year_month      int64\n",
       "dtype: object"
      ]
     },
     "execution_count": 57,
     "metadata": {},
     "output_type": "execute_result"
    }
   ],
   "execution_count": 57
  },
  {
   "metadata": {
    "ExecuteTime": {
     "end_time": "2025-03-09T15:59:09.470087Z",
     "start_time": "2025-03-09T15:59:08.714201Z"
    }
   },
   "cell_type": "code",
   "source": [
    "import glob\n",
    "import os\n",
    "\n",
    "# Define input and output folder paths\n",
    "input_folder = \"data/splitted data/\"\n",
    "output_folder = \"data/monthly data/\"\n",
    "\n",
    "# Ensure the output folder exists\n",
    "os.makedirs(output_folder, exist_ok=True)\n",
    "\n",
    "# Get a list of all CSV files in the input folder\n",
    "file_paths = glob.glob(os.path.join(input_folder, \"*.csv\"))\n",
    "\n",
    "# Process each state file\n",
    "for file_path in file_paths:\n",
    "    # Extract state name from the file name (e.g., \"ND.csv\" → \"ND\")\n",
    "    state = os.path.basename(file_path).split(\".\")[0]\n",
    "\n",
    "    # Read the dataset\n",
    "    df = pd.read_csv(file_path)\n",
    "\n",
    "    # Ensure 'date' is in proper datetime format\n",
    "    df['date'] = pd.to_datetime(df['date'].astype(str), format='%Y%m%d')\n",
    "\n",
    "    # Extract 'YYYY-MM' properly\n",
    "    df['year_month'] = df['date'].dt.to_period('M').astype(str)\n",
    "\n",
    "    # Convert TAVG to numeric safely\n",
    "    df['TAVG'] = pd.to_numeric(df['TAVG'], errors='coerce')\n",
    "\n",
    "    # Drop NaNs in TAVG\n",
    "    df = df.dropna(subset=['TAVG'])\n",
    "\n",
    "    # Group by 'YYYY-MM' and compute mean\n",
    "    df_monthly = df.groupby('year_month', as_index=False)['TAVG'].mean()\n",
    "\n",
    "    # Sort values by year_month\n",
    "    df_monthly = df_monthly.sort_values(by='year_month')\n",
    "\n",
    "    # Save the processed file\n",
    "    output_file = os.path.join(output_folder, f\"{state}_monthly.csv\")\n",
    "    df_monthly.to_csv(output_file, index=False)\n",
    "\n",
    "\n",
    "print(\"✅ All state files processed successfully!\")\n"
   ],
   "id": "d98115dde9070b39",
   "outputs": [
    {
     "name": "stdout",
     "output_type": "stream",
     "text": [
      "✅ All state files processed successfully!\n"
     ]
    }
   ],
   "execution_count": 58
  },
  {
   "metadata": {},
   "cell_type": "markdown",
   "source": [
    "understand the correlation\n",
    "1. positive correlation\n",
    "2. negative correlation"
   ],
   "id": "2707c1e689c7c120"
  },
  {
   "metadata": {
    "ExecuteTime": {
     "end_time": "2025-03-09T15:59:09.772201Z",
     "start_time": "2025-03-09T15:59:09.494811Z"
    }
   },
   "cell_type": "code",
   "source": [
    "correlation = ND.drop(columns=['station', 'state', 'date', 'year_month']).corr()\n",
    "plt.figure(figsize = (10,10))\n",
    "sns.heatmap(correlation, annot=True, annot_kws={\"size\": 10}, cmap='Reds', square=True, fmt='.2f')"
   ],
   "id": "b31eb0f217146b74",
   "outputs": [
    {
     "data": {
      "text/plain": [
       "<Axes: >"
      ]
     },
     "execution_count": 59,
     "metadata": {},
     "output_type": "execute_result"
    },
    {
     "data": {
      "text/plain": [
       "<Figure size 1000x1000 with 2 Axes>"
      ],
      "image/png": "[encoded data removed]"
     },
     "metadata": {},
     "output_type": "display_data"
    }
   ],
   "execution_count": 59
  },
  {
   "metadata": {},
   "cell_type": "markdown",
   "source": "looks like there are some negative correlation between the temperature and snow depth",
   "id": "9cd8b765bd5b44c4"
  },
  {
   "metadata": {
    "ExecuteTime": {
     "end_time": "2025-03-09T15:59:09.863978Z",
     "start_time": "2025-03-09T15:59:09.781517Z"
    }
   },
   "cell_type": "code",
   "source": [
    "ND_monthly = pd.read_csv(\"data/monthly data/ND_monthly.csv\")\n",
    "\n",
    "plt.figure(figsize=(12,6))\n",
    "plt.plot(ND_monthly['year_month'], ND_monthly['TAVG'], marker='o', linestyle='-', alpha=0.7)\n",
    "\n",
    "plt.xlabel(\"Month\")\n",
    "plt.ylabel(\"Average Temperature\")\n",
    "plt.title(\"Monthly Average Temperature Over Time \")\n",
    "plt.xticks(rotation=45)\n",
    "plt.grid(True)\n",
    "\n",
    "plt.show()"
   ],
   "id": "5e7c92f92197be7e",
   "outputs": [
    {
     "data": {
      "text/plain": [
       "<Figure size 1200x600 with 1 Axes>"
      ],
      "image/png": "[encoded data removed]"
     },
     "metadata": {},
     "output_type": "display_data"
    }
   ],
   "execution_count": 60
  },
  {
   "metadata": {
    "ExecuteTime": {
     "end_time": "2025-03-09T15:59:09.959681Z",
     "start_time": "2025-03-09T15:59:09.900837Z"
    }
   },
   "cell_type": "code",
   "source": [
    "\n",
    "# Define the folder where monthly data is stored\n",
    "monthly_folder = \"data/monthly data/\"\n",
    "\n",
    "# Get all monthly data files\n",
    "file_paths = glob.glob(os.path.join(monthly_folder, \"*.csv\"))\n",
    "\n",
    "# Dictionary to store variance values\n",
    "state_variance = {}\n",
    "\n",
    "# Process each state file\n",
    "for file_path in file_paths:\n",
    "    # Extract state name from filename\n",
    "    state = os.path.basename(file_path).split(\"_\")[0]\n",
    "\n",
    "    # Read the monthly data\n",
    "    df = pd.read_csv(file_path)\n",
    "\n",
    "    # Ensure 'TAVG' is numeric\n",
    "    df['TAVG'] = pd.to_numeric(df['TAVG'], errors='coerce')\n",
    "\n",
    "    # Compute variance of TAVG\n",
    "    variance = df['TAVG'].var()\n",
    "\n",
    "    # Store in dictionary\n",
    "    state_variance[state] = variance\n",
    "\n",
    "# Find the state with the lowest variance\n",
    "lowest_variance_state = min(state_variance, key=state_variance.get)\n",
    "lowest_variance_value = state_variance[lowest_variance_state]\n",
    "\n",
    "# Print the result\n",
    "print(f\"✅ State with the lowest temperature variance: {lowest_variance_state} ({lowest_variance_value:.2f})\")\n"
   ],
   "id": "140ba1859ccf1e51",
   "outputs": [
    {
     "name": "stdout",
     "output_type": "stream",
     "text": [
      "✅ State with the lowest temperature variance: GU (1.45)\n"
     ]
    }
   ],
   "execution_count": 61
  }
 ],
 "metadata": {
  "kernelspec": {
   "display_name": "Python 3",
   "language": "python",
   "name": "python3"
  },
  "language_info": {
   "codemirror_mode": {
    "name": "ipython",
    "version": 2
   },
   "file_extension": ".py",
   "mimetype": "text/x-python",
   "name": "python",
   "nbconvert_exporter": "python",
   "pygments_lexer": "ipython2",
   "version": "2.7.6"
  }
 },
 "nbformat": 4,
 "nbformat_minor": 5
}
